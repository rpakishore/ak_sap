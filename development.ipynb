{
 "cells": [
  {
   "cell_type": "markdown",
   "metadata": {},
   "source": [
    "import pandas as pd\n",
    "from pandasgui import show\n",
    "from ak_sap import debug\n",
    "debug(status=True)\n",
    "\n",
    "df = pd.DataFrame({'a':[1,2,3], 'b':[4,5,6], 'c':[7,8,9]})\n",
    "show(df)"
   ]
  },
  {
   "cell_type": "code",
   "execution_count": 1,
   "metadata": {},
   "outputs": [
    {
     "name": "stderr",
     "output_type": "stream",
     "text": [
      "20231120-141452-DEBUG: Icecream Debugger: True\n",
      "20231120-141453-DEBUG: Attached to existing Instance.\n",
      "20231120-141453-INFO: Sap2000Wrapper Initialized\n"
     ]
    }
   ],
   "source": [
    "from ak_sap import Sap2000Wrapper,debug\n",
    "debug(status=True)\n",
    "\n",
    "sap = Sap2000Wrapper(attach_to_exist=True)"
   ]
  },
  {
   "cell_type": "code",
   "execution_count": null,
   "metadata": {},
   "outputs": [],
   "source": [
    "import inspect\n",
    "\n",
    "def printfn():\n",
    "    print(inspect.currentframe().f_back.f_code.co_name)\n",
    "    print(inspect.stack()[1].filename)\n",
    "\n",
    "def test():\n",
    "    printfn()\n",
    "\n",
    "test()"
   ]
  },
  {
   "cell_type": "code",
   "execution_count": 2,
   "metadata": {},
   "outputs": [
    {
     "name": "stderr",
     "output_type": "stream",
     "text": [
      "20231120-141455-CRITICAL: Critical in C:\\Users\\remaa\\Documents\\[Struct - Documents]\\AK Custom Scripts\\ak_sap\\src\\ak_sap\\Model\\main.py -> set_units: 'N_' is not in list\n"
     ]
    }
   ],
   "source": [
    "sap.Model.units_database\n",
    "sap.Model.set_units('N_')\n"
   ]
  }
 ],
 "metadata": {
  "kernelspec": {
   "display_name": ".venv",
   "language": "python",
   "name": "python3"
  },
  "language_info": {
   "codemirror_mode": {
    "name": "ipython",
    "version": 3
   },
   "file_extension": ".py",
   "mimetype": "text/x-python",
   "name": "python",
   "nbconvert_exporter": "python",
   "pygments_lexer": "ipython3",
   "version": "3.11.4"
  },
  "orig_nbformat": 4
 },
 "nbformat": 4,
 "nbformat_minor": 2
}
