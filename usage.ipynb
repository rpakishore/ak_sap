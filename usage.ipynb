{
 "cells": [
  {
   "cell_type": "code",
   "execution_count": null,
   "metadata": {},
   "outputs": [],
   "source": [
    "from ak_sap import debug, Sap2000Wrapper\n",
    "debug(status=False)\n",
    "\n",
    "#Initialize\n",
    "sap = Sap2000Wrapper(attach_to_exist=True)      #Attach to existing opened model\n",
    "sap = Sap2000Wrapper(attach_to_exist=False)     #Create new blank model from latest SAP2000\n",
    "## Create blank model from a custom version of SAP2000\n",
    "sap = Sap2000Wrapper(attach_to_exist=False, program_path=r'Path\\to\\SAP2000.exe')\n",
    "\n",
    "sap.hide()                                  #Hide the SAP2000 window\n",
    "sap.unhide()                                #Unhides SAP2000 window\n",
    "sap.api_version                             #Returns Sap0API version number\n",
    "\n",
    "sap.save(r'\\Path\\to\\save\\file.sdb')\n",
    "\n",
    "#Model\n",
    "sap.Model.units                             #Returns current model units\n",
    "sap.Model.units_database                    #Returns Internal Database units\n",
    "sap.Model.set_units(value='N_m_C')          #Changes the present units of model\n"
   ]
  }
 ],
 "metadata": {
  "language_info": {
   "name": "python"
  }
 },
 "nbformat": 4,
 "nbformat_minor": 2
}
