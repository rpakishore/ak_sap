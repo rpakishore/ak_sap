{
 "cells": [
  {
   "cell_type": "markdown",
   "metadata": {},
   "source": [
    "## Initialize"
   ]
  },
  {
   "cell_type": "code",
   "execution_count": null,
   "metadata": {},
   "outputs": [],
   "source": [
    "from ak_sap import debug, Sap2000Wrapper\n",
    "debug(status=False)\n",
    "\n",
    "#Initialize\n",
    "sap = Sap2000Wrapper(attach_to_exist=True)      #Attach to existing opened model\n",
    "sap = Sap2000Wrapper(attach_to_exist=False)     #Create new blank model from latest SAP2000\n",
    "## Create blank model from a custom version of SAP2000\n",
    "sap = Sap2000Wrapper(attach_to_exist=False, program_path=r'Path\\to\\SAP2000.exe')"
   ]
  },
  {
   "cell_type": "markdown",
   "metadata": {},
   "source": [
    "## Parent Level"
   ]
  },
  {
   "cell_type": "code",
   "execution_count": null,
   "metadata": {},
   "outputs": [],
   "source": [
    "sap.hide()                                  #Hide the SAP2000 window\n",
    "sap.unhide()                                #Unhides SAP2000 window\n",
    "sap.version                                 #Returns SAP2000 version number\n",
    "sap.api_version                             #Returns Sap0API version number\n",
    "\n",
    "sap.save(r'\\Path\\to\\save\\file.sdb')"
   ]
  },
  {
   "cell_type": "markdown",
   "metadata": {},
   "source": [
    "## Sub-Modules"
   ]
  },
  {
   "cell_type": "markdown",
   "metadata": {},
   "source": [
    "### Model"
   ]
  },
  {
   "cell_type": "code",
   "execution_count": null,
   "metadata": {},
   "outputs": [],
   "source": [
    "sap.Model.units                             #Returns current model units\n",
    "sap.Model.units_database                    #Returns Internal Database units\n",
    "sap.Model.set_units(value='N_m_C')          #Changes the present units of model\n",
    "\n",
    "sap.Model.merge_tol                         #retrieves the value of the program auto merge tolerance\n",
    "sap.Model.set_merge_tol(0.05)               #sets the program auto merge tolerance\n",
    "\n",
    "sap.Model.filepath                          #Returns filepath of current file\n",
    "\n",
    "sap.Model.is_locked                         #Returns if the model is locked\n",
    "sap.Model.lock()                            #Locks the model\n",
    "sap.Model.unlock()                          #Unlocks the model\n",
    "\n",
    "sap.Model.project_info                      #Returns a dict of Project Info\n",
    "##Set project info, use `.project_info` to see available keys\n",
    "sap.Model.set_project_info({'Design Code': 'BCBC 2018'})\n",
    "\n",
    "sap.Model.logs                              #Retrieve user comments and logs\n",
    "sap.Model.set_logs('Add this comment')      #Adds user comments/logs"
   ]
  },
  {
   "cell_type": "markdown",
   "metadata": {},
   "source": [
    "### Element"
   ]
  },
  {
   "cell_type": "markdown",
   "metadata": {},
   "source": [
    "#### Point"
   ]
  },
  {
   "cell_type": "code",
   "execution_count": null,
   "metadata": {},
   "outputs": [],
   "source": [
    "len(sap.Element.Point)                      #list number of points in model\n",
    "sap.Element.Point.add_by_coord((1,2,3))     #Add point to model"
   ]
  },
  {
   "cell_type": "markdown",
   "metadata": {},
   "source": [
    "### Database"
   ]
  },
  {
   "cell_type": "code",
   "execution_count": null,
   "metadata": {},
   "outputs": [],
   "source": [
    "sap.Table.list()                            #Lists available database tables\n",
    "sap.Table.list_all()                        #Lists all database tables"
   ]
  }
 ],
 "metadata": {
  "language_info": {
   "name": "python"
  }
 },
 "nbformat": 4,
 "nbformat_minor": 2
}
