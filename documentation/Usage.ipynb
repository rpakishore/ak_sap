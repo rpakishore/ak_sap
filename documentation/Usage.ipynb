{
 "cells": [
  {
   "cell_type": "markdown",
   "metadata": {},
   "source": [
    "## Initialize"
   ]
  },
  {
   "cell_type": "code",
   "execution_count": null,
   "metadata": {},
   "outputs": [],
   "source": [
    "from ak_sap import debug, Sap2000Wrapper\n",
    "debug(status=False)\n",
    "\n",
    "#Initialize\n",
    "sap = Sap2000Wrapper(attach_to_exist=True)      #Attach to existing opened model\n",
    "sap = Sap2000Wrapper(attach_to_exist=False)     #Create new blank model from latest SAP2000\n",
    "## Create blank model from a custom version of SAP2000\n",
    "sap = Sap2000Wrapper(attach_to_exist=False, program_path=r'Path\\to\\SAP2000.exe')"
   ]
  },
  {
   "cell_type": "markdown",
   "metadata": {},
   "source": [
    "## Parent Level"
   ]
  },
  {
   "cell_type": "code",
   "execution_count": null,
   "metadata": {},
   "outputs": [],
   "source": [
    "sap.hide()                                  #Hide the SAP2000 window\n",
    "sap.unhide()                                #Unhides SAP2000 window\n",
    "sap.ishidden                                #Check if window is hidden\n",
    "sap.version                                 #Returns SAP2000 version number\n",
    "sap.api_version                             #Returns Sap0API version number\n",
    "\n",
    "sap.save(r'\\Path\\to\\save\\file.sdb')"
   ]
  },
  {
   "cell_type": "markdown",
   "metadata": {},
   "source": [
    "## Sub-Modules"
   ]
  },
  {
   "cell_type": "markdown",
   "metadata": {},
   "source": [
    "### Model\n",
    "\n",
    "Collection of methods and attributes that control changes to the model as a whole"
   ]
  },
  {
   "cell_type": "code",
   "execution_count": null,
   "metadata": {},
   "outputs": [],
   "source": [
    "sap.Model.units                             #Returns current model units\n",
    "sap.Model.units_database                    #Returns Internal Database units\n",
    "sap.Model.set_units(value='N_m_C')          #Changes the present units of model\n",
    "\n",
    "sap.Model.merge_tol                         #retrieves the value of the program auto merge tolerance\n",
    "sap.Model.set_merge_tol(0.05)               #sets the program auto merge tolerance\n",
    "\n",
    "sap.Model.filepath                          #Returns filepath of current file\n",
    "\n",
    "sap.Model.is_locked                         #Returns if the model is locked\n",
    "sap.Model.lock()                            #Locks the model\n",
    "sap.Model.unlock()                          #Unlocks the model\n",
    "\n",
    "sap.Model.project_info                      #Returns a dict of Project Info\n",
    "##Set project info, use `.project_info` to see available keys\n",
    "sap.Model.set_project_info({'Design Code': 'BCBC 2018'})\n",
    "\n",
    "sap.Model.logs                              #Retrieve user comments and logs\n",
    "sap.Model.set_logs('Add this comment')      #Adds user comments/logs"
   ]
  },
  {
   "cell_type": "markdown",
   "metadata": {},
   "source": [
    "### Element\n",
    "\n",
    "Collection of methods and attributes that apply changes to elements in the model"
   ]
  },
  {
   "cell_type": "code",
   "execution_count": null,
   "metadata": {},
   "outputs": [],
   "source": [
    "object = sap.Object\n",
    "object.move_selected(dx=0.5, dy=0, dz=1.0)  #Move selected object\n",
    "object.copy(dx=0.5, dy=0, dz=0, num=10)#copy selected object\n",
    "\n",
    "#Mirror and create object\n",
    "from ak_sap import Coord\n",
    "pt1 = Coord(x=10, y=20, z=0)\n",
    "p2 = Coord(x=10, y=30, z=0)\n",
    "object.mirror(plane='Z', coord1=pt1, coord2=pt2)    #Mirror replicate selected obj."
   ]
  },
  {
   "cell_type": "markdown",
   "metadata": {},
   "source": [
    "#### Point\n",
    "\n",
    "Manipulate Point Elements"
   ]
  },
  {
   "cell_type": "code",
   "execution_count": null,
   "metadata": {},
   "outputs": [],
   "source": [
    "points = sap.Object.Point\n",
    "len(points)                                 #list number of points in model\n",
    "points.add_by_coord((1,2,3))                #Add point to model\n",
    "points.is_selected(name='1')                #Check if point is selected\n",
    "points.selected()                           #Yields selected points\n",
    "points.all()                                #Lists all defined points\n",
    "points.rename(old_name='1', new_name='1_1') #Rename point\n",
    "points.check_obj_legal(name='1')            #Asserts point's existance\n",
    "points.delete(name='1')                     #Delete point\n",
    "\n",
    "#Manipilate\n",
    "points.deselect_all()                       #Deselect all points\n",
    "points.select(name='1')                     #Select a single point\n",
    "points.align(axis='Z', ordinate = 100)      #Align selected points\n",
    "points.deselect(name='1')                   #Deselect a single point\n",
    "\n",
    "points.merge(tolerance=2)                   #Merge points that are within tol\n",
    "points.change_coord(name='1', x=0, y=0, z=0)#Change point coordinate"
   ]
  },
  {
   "cell_type": "markdown",
   "metadata": {},
   "source": [
    "#### Frame\n",
    "\n",
    "Manipulate Frame Elements"
   ]
  },
  {
   "cell_type": "code",
   "execution_count": null,
   "metadata": {},
   "outputs": [],
   "source": [
    "frames = sap.Object.Frame\n",
    "len(frames)                                 #list number of frames in model\n",
    "frames.is_selected(name='1')                #Check if frame is selected\n",
    "frames.selected()                           #Yields selected frames\n",
    "frames.all()                                #Lists all defined frames\n",
    "frames.rename(old_name='1', new_name='1_1') #Rename frame\n",
    "frames.check_obj_legal(name='1')            #Asserts frame's existance\n",
    "frames.get_section(name='1')          #Get the assigned Section name\n",
    "frames.get_points(name='1')           #Get points connected to frame\n",
    "\n",
    "#Manipulation\n",
    "frames.delete(name='1')                     #Delete frame\n",
    "frames.divide_by_distance(name='1',\n",
    "    dist=0.5,Iend=True)                     #Divide frame by distance\n",
    "frames.divide_by_intersection(name='2')   #Divide at selected intersections\n",
    "frames.divide_by_ratio(name='3',ratio=0.3)#Divide at selected ratio\n",
    "frames.join('2','3')                  #Join Colinear frames\n",
    "frames.change_points(name='1', point1='1', point2='3')  #Change connected points of frame\n",
    "\n",
    "# Get frame properties\n",
    "frames.Prop.rename(old_name=\"FSEC1\", new_name=\"MySection\")  #Rename frame property\n",
    "frames.Prop.total()                         #Total # of defined frame properties"
   ]
  },
  {
   "cell_type": "markdown",
   "metadata": {},
   "source": [
    "### Database\n",
    "\n",
    "Control the database values"
   ]
  },
  {
   "cell_type": "code",
   "execution_count": null,
   "metadata": {},
   "outputs": [],
   "source": [
    "tables = sap.Table\n",
    "tables.list_available()                              #Lists available database tables\n",
    "tables.list_all()                                    #Lists all database tables\n",
    "tables.get_table_fields('Analysis Options')          #Get table Field Info\n",
    "tables.get(TableKey='Load Case Definitions', dataframe=False)     #Get Table data in `list[dict]` format\n",
    "df = tables.get('Material Properties 01 - General')                 #Get Table data in pandas dataframe\n",
    "\n",
    "# Update Table\n",
    "df.iloc[0,0] = 'New Value'\n",
    "tables.update(TableKey='Material Properties 01 - General', data=df, apply=True)"
   ]
  },
  {
   "cell_type": "markdown",
   "metadata": {},
   "source": [
    "### Select"
   ]
  },
  {
   "cell_type": "markdown",
   "metadata": {},
   "source": [
    "select = sap.Select\n",
    "\n",
    "select.all()                    #Select all objects\n",
    "select.clear()                  #Deselect all objects\n",
    "\n",
    "select.constraint(name='Diaph1')#Select points in constraint\n",
    "select.constraint(name='Diaph1', reverse=True)  #Deselect points in constraint\n",
    "\n",
    "select.invert()                 #Invert selections\n",
    "select.selected                 #Returns list of selected objects\n",
    "select.previous()               #restores the previous selection\n",
    "\n",
    "#Selection based on plane\n",
    "select.in_plane(pointname='1', plane='XY')  #Select in XY plane\n",
    "select.in_plane(pointname='2', plane='YZ', reverse=False)   #Deselect\n",
    "\n",
    "#Select by property\n",
    "select.property(type='Area', name='ASEC1')\n",
    "select.property(type='Cable', name='CAB1', reverse=True)\n",
    "select.property(type='Frame', name='FSEC1')\n",
    "select.property(type='Link', name='GAP1', reverse=True)\n",
    "select.property(type='Material', name='A992Fy50')\n",
    "select.property(type='Solid', name='SOLID1', reverse=True)\n",
    "select.property(type='Tendon', name='TEN1')"
   ]
  },
  {
   "cell_type": "markdown",
   "metadata": {},
   "source": [
    "### Loads\n",
    "\n",
    "Control the definition and assignments of loads."
   ]
  },
  {
   "cell_type": "markdown",
   "metadata": {},
   "source": [
    "#### Load Patterns"
   ]
  },
  {
   "cell_type": "code",
   "execution_count": null,
   "metadata": {},
   "outputs": [],
   "source": [
    "pattern = sap.Load.Pattern\n",
    "len(pattern)                   # List the number of load patterns defined\n",
    "pattern.list_all()             #List defined load patterns\n",
    "pattern.rename('Dead', 'Live') #Rename previously defined pattern\n",
    "pattern.delete(name='Dead')    #Delete a load pattern\n",
    "\n",
    "pattern.get_selfwt_multiplier('DEAD')           #Get defined self weight multiplier\n",
    "pattern.set_selfwt_multiplier('DEAD', 1.15)     #Set self weight multiplier\n",
    "\n",
    "pattern.get_loadtype('DEAD')                        #Get the defined load type\n",
    "pattern.set_loadtype('DEAD', pattern_type='LIVE')   #Set the defined load type\n",
    "\n",
    "#Add a Live load case with name \"Custom Live\", a 1.15x self weight multiplier and also generate an accompanying load case\n",
    "pattern.add(name='Custom Live', pattern_type='LIVE', \n",
    "            selfwt_multiplier=1.15, add_case=True)"
   ]
  },
  {
   "cell_type": "markdown",
   "metadata": {},
   "source": [
    "#### Load Cases"
   ]
  },
  {
   "cell_type": "code",
   "execution_count": null,
   "metadata": {},
   "outputs": [],
   "source": [
    "cases = sap.Load.Case\n",
    "len(cases)                      #returns total # of defined cases\n",
    "cases.total(casetype='MODAL')   #Get # of modal load cases\n",
    "cases.list_all()                #List all load cases\n",
    "cases.rename('DEAD','WATER')    #Rename existing load case\n",
    "cases.case_info(name='DEAD')    #Get the Case type information\n",
    "cases.set_type(name='DEAD', casetype='LINEAR_STATIC')   #Change the case type of existing load case"
   ]
  },
  {
   "cell_type": "markdown",
   "metadata": {},
   "source": [
    "#### Modal\n",
    "\n",
    "`sap.Load.Modal`"
   ]
  },
  {
   "cell_type": "markdown",
   "metadata": {},
   "source": [
    "##### Eigen"
   ]
  },
  {
   "cell_type": "code",
   "execution_count": null,
   "metadata": {},
   "outputs": [],
   "source": [
    "eigen = sap.Load.Modal.Eigen\n",
    "eigen.set_case(case_name=\"LCASE1\")          #Set a Eigen Modal case\n",
    "\n",
    "eigen.set_initial_case(case_name='LCASE1', initial_case='DEAD')    #Set initial stiffness case\n",
    "eigen.get_initial_case(case_name=\"LCASE1\")  #Get the Initial Case\n",
    "\n",
    "eigen.get_loads(case_name='LCASE1')         #Get the load data\n",
    "\n",
    "#Set Eigen parameters\n",
    "eigen.set_parameters(\n",
    "    case_name='LCASE1',\n",
    "    EigenShiftFreq=0.05,    #cyc/s\n",
    "    EigenCutOff=0.0001,     #cyc/s\n",
    "    EigenTolerance=0.00000001,\n",
    "    AllowAutoFreqShift=True\n",
    ")\n",
    "eigen.get_parameters(case_name='LCASE1')    #Get Parameters\n",
    "\n",
    "eigen.set_number_modes(case_name='LCASE1', max=10, min=5)   #set number of modes\n",
    "eigen.get_number_modes(case_name='LCASE1')                  #get number of modes"
   ]
  },
  {
   "cell_type": "markdown",
   "metadata": {},
   "source": [
    "##### Ritz"
   ]
  },
  {
   "cell_type": "code",
   "execution_count": null,
   "metadata": {},
   "outputs": [],
   "source": [
    "ritz = sap.Load.Modal.Ritz\n",
    "ritz.set_case(case_name=\"LCASE1\")          #Set a Eigen Modal case\n",
    "\n",
    "ritz.set_initial_case(case_name='LCASE1', initial_case='DEAD')    #Set initial stiffness case\n",
    "ritz.get_initial_case(case_name=\"LCASE1\")  #Get the Initial Case\n",
    "\n",
    "ritz.get_loads(case_name='LCASE1')         #Get the load data\n",
    "\n",
    "ritz.set_number_modes(case_name='LCASE1', max=10, min=5)   #set number of modes\n",
    "ritz.get_number_modes(case_name='LCASE1')                  #get number of modes"
   ]
  },
  {
   "cell_type": "markdown",
   "metadata": {},
   "source": [
    "### Analyze"
   ]
  },
  {
   "cell_type": "code",
   "execution_count": null,
   "metadata": {},
   "outputs": [],
   "source": [
    "analyze = sap.Analyze\n",
    "analyze.create_model()                      #Create analysis model\n",
    "analyze.run()                               #Runs the analysis\n",
    "analyze.case_status()                       #retrieves the status for all load cases.\n",
    "analyze.get_run_status()                    #retrieves the run flags for all cases\n",
    "analyze.set_run_flag(case='MODAL', status=True) # Set case to run\n",
    "analyze.get_solver()                        #Get solver info\n",
    "\n",
    "#Set solver options\n",
    "analyze.set_solver(\n",
    "    SolverType='Standard',\n",
    "    SolverProcessType='Auto',\n",
    "    NumberParallelRuns=0,\n",
    "    StiffCase=''\n",
    ")                    "
   ]
  },
  {
   "cell_type": "markdown",
   "metadata": {},
   "source": [
    "### Results\n",
    "\n",
    "Manipulate Results from SAP2000"
   ]
  },
  {
   "cell_type": "code",
   "execution_count": null,
   "metadata": {},
   "outputs": [],
   "source": [
    "results = sap.Results\n",
    "\n",
    "setup = sap.Results.Setup\n",
    "setup.clear_casecombo()                     #Deselect all Case&Combo for results\n",
    "setup.select_case(casename='DEAD')          #sets an load case selected for output flag.\n",
    "setup.is_selected_case(casename='DEAD')     #checks if an load case is selected for output.\n",
    "setup.select_combo(comboname='DEAD')        #sets an load combo selected for output flag.\n",
    "setup.is_selected_combo(comboname='COMB1')  #checks if an load combo is selected for output.\n",
    "setup.set_rxn_loc_get(x=0.5, y=0.5, z=5)    #sets coordinates of the locn at which the base reactions are reported.               \n",
    "setup.base_rxn_loc_get()                    #retrieves coordinates of the locn at which the base reactions are reported.\n",
    "\n",
    "results.joint_reactions(jointname='1')      #Get Joint reactions as list of dict\n",
    "results.joint_displacements(jointname='1')      #Get Joint displacements as list of dict\n",
    "results.joint_accelerations(jointname='1')  #Get joint accelerations\n",
    "results.joint_velocities(jointname='1')     #Get joint velocities\n",
    "\n",
    "results.delete('MODAL')                     #Delete results of `MODAL` case\n",
    "results.delete('All')                       #Delete results of all cases"
   ]
  },
  {
   "cell_type": "markdown",
   "metadata": {},
   "source": [
    "### Material"
   ]
  },
  {
   "cell_type": "code",
   "execution_count": null,
   "metadata": {},
   "outputs": [],
   "source": [
    "material = sap.Material\n",
    "material.rename(old=\"4000Psi\", new=\"MatConc\")   #Rename existing material\n",
    "material.total()                                #Total # of defined material properties\n",
    "material.delete(name='4000Psi')                 #Delete existing material property\n",
    "material.list_all()                             #List all defined Material Properties\n",
    "material.get_props(name='4000Psi')              #Returns basic material property data\n",
    "material.add(name='Steel', material_type='Steel')           #Initialze Material Property\n",
    "material.set_isotropic(name='Steel', E=29500, poisson=0.25, thermal_coeff=6e-06)    #Set isotropic material properties\n",
    "material.set_density(name='Steel', mass_per_vol=0.00029)    #set density"
   ]
  },
  {
   "cell_type": "markdown",
   "metadata": {},
   "source": [
    "#### Rebar"
   ]
  },
  {
   "cell_type": "code",
   "execution_count": null,
   "metadata": {},
   "outputs": [],
   "source": [
    "rebar = sap.Material.Rebar\n",
    "rebar.rename(old='R1', new='MyRebar')           #Rename rebar\n",
    "rebar.total()                                   #Total # of defined rebar properties\n",
    "rebar.delete(name='R1')                         #Delete existing rebar property\n",
    "rebar.list_all()                                #List all defined rebar Properties\n",
    "rebar.set_prop(name='MyRebar2', area=1.05, dia=1.0) #Define a rebar property\n",
    "rebar.get_prop(name='MyRebar2')                 #Get rebar property"
   ]
  }
 ],
 "metadata": {
  "language_info": {
   "name": "python"
  }
 },
 "nbformat": 4,
 "nbformat_minor": 2
}
